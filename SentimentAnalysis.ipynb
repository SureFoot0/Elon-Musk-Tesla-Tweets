{
 "cells": [
  {
   "cell_type": "code",
   "execution_count": 73,
   "id": "6ba0dea9-ca6a-45a5-8883-a005648c328d",
   "metadata": {},
   "outputs": [],
   "source": [
    "import numpy as np\n",
    "import pandas as pd\n",
    "import datetime as dt\n",
    "import re\n",
    "from vaderSentiment.vaderSentiment import SentimentIntensityAnalyzer\n",
    "import matplotlib.pyplot as plt"
   ]
  },
  {
   "cell_type": "code",
   "execution_count": 15,
   "id": "27dbca4f-408e-4a4a-ada1-7b907b32b219",
   "metadata": {},
   "outputs": [],
   "source": [
    "StocksDF = pd.read_csv('TESLASTOCKS.csv')\n",
    "StocksDF['Date'] = pd.to_datetime(StocksDF['Date'], dayfirst=True)"
   ]
  },
  {
   "cell_type": "code",
   "execution_count": 16,
   "id": "d990b7a2-4a3b-420a-a9be-71ddc12040b8",
   "metadata": {},
   "outputs": [],
   "source": [
    "Percent_Change = [StocksDF[\"Percent Change\"][i][:-1] for i in range(len(StocksDF[\"Percent Change\"]))]\n",
    "StocksDF = StocksDF.drop(columns = \"Percent Change\")\n",
    "StocksDF[\"Percent Change\"] = Percent_Change"
   ]
  },
  {
   "cell_type": "code",
   "execution_count": 38,
   "id": "4b835b1b-1c6a-4644-af18-7899617b1b69",
   "metadata": {},
   "outputs": [],
   "source": [
    "TweetsDF = pd.read_csv('TWEETS.csv')\n",
    "TweetsDF = TweetsDF.rename(columns = {'Timestamp':'Date'})\n",
    "TweetsDF = TweetsDF.drop(['Emojis','Retweets','UserScreenName', 'UserName','Comments','Likes','Image link'],axis=1)\n",
    "TweetsDF['Date'] = pd.to_datetime(TweetsDF['Date'], dayfirst=True)"
   ]
  },
  {
   "cell_type": "code",
   "execution_count": 65,
   "id": "950f339e-da1a-45ed-8087-6f2e41758cae",
   "metadata": {},
   "outputs": [],
   "source": [
    "df = pd.merge(StocksDF, TweetsDF, on = \"Date\")\n",
    "df = df.drop_duplicates(subset='Date', keep = \"first\")\n",
    "df.reset_index(drop=True, inplace=True)"
   ]
  },
  {
   "cell_type": "code",
   "execution_count": 66,
   "id": "50f0b1a8-c082-48de-aa1d-97f0498575a1",
   "metadata": {},
   "outputs": [
    {
     "data": {
      "text/html": [
       "<div>\n",
       "<style scoped>\n",
       "    .dataframe tbody tr th:only-of-type {\n",
       "        vertical-align: middle;\n",
       "    }\n",
       "\n",
       "    .dataframe tbody tr th {\n",
       "        vertical-align: top;\n",
       "    }\n",
       "\n",
       "    .dataframe thead th {\n",
       "        text-align: right;\n",
       "    }\n",
       "</style>\n",
       "<table border=\"1\" class=\"dataframe\">\n",
       "  <thead>\n",
       "    <tr style=\"text-align: right;\">\n",
       "      <th></th>\n",
       "      <th>Date</th>\n",
       "      <th>Open</th>\n",
       "      <th>High</th>\n",
       "      <th>Low</th>\n",
       "      <th>Close</th>\n",
       "      <th>Adj Close</th>\n",
       "      <th>Volume</th>\n",
       "      <th>Price Change</th>\n",
       "      <th>Percent Change</th>\n",
       "      <th>Tweet</th>\n",
       "      <th>text</th>\n",
       "      <th>Tweet URL</th>\n",
       "    </tr>\n",
       "  </thead>\n",
       "  <tbody>\n",
       "    <tr>\n",
       "      <th>0</th>\n",
       "      <td>2018-01-03</td>\n",
       "      <td>64.199997</td>\n",
       "      <td>65.050003</td>\n",
       "      <td>63.110001</td>\n",
       "      <td>63.450001</td>\n",
       "      <td>63.450001</td>\n",
       "      <td>22607500</td>\n",
       "      <td>0.628006</td>\n",
       "      <td>1</td>\n",
       "      <td>2992</td>\n",
       "      <td>Come work at the biggest &amp; most advanced facto...</td>\n",
       "      <td>https://twitter.com/elonmusk/status/9484282744...</td>\n",
       "    </tr>\n",
       "    <tr>\n",
       "      <th>1</th>\n",
       "      <td>2018-01-05</td>\n",
       "      <td>63.324001</td>\n",
       "      <td>63.448002</td>\n",
       "      <td>62.400002</td>\n",
       "      <td>63.316002</td>\n",
       "      <td>63.316002</td>\n",
       "      <td>22956000</td>\n",
       "      <td>-0.261997</td>\n",
       "      <td>0</td>\n",
       "      <td>2994</td>\n",
       "      <td>Falcon Heavy goes vertical\\n0:19\\n2M views\\n2,...</td>\n",
       "      <td>https://twitter.com/elonmusk/status/9490754750...</td>\n",
       "    </tr>\n",
       "    <tr>\n",
       "      <th>2</th>\n",
       "      <td>2018-01-08</td>\n",
       "      <td>63.200001</td>\n",
       "      <td>67.403999</td>\n",
       "      <td>63.099998</td>\n",
       "      <td>67.281998</td>\n",
       "      <td>67.281998</td>\n",
       "      <td>49297000</td>\n",
       "      <td>3.955997</td>\n",
       "      <td>6</td>\n",
       "      <td>2996</td>\n",
       "      <td>Long exposure of rocket ascent, reentry from s...</td>\n",
       "      <td>https://twitter.com/elonmusk/status/9504162449...</td>\n",
       "    </tr>\n",
       "    <tr>\n",
       "      <th>3</th>\n",
       "      <td>2018-01-09</td>\n",
       "      <td>67.031998</td>\n",
       "      <td>67.760002</td>\n",
       "      <td>65.480003</td>\n",
       "      <td>66.737999</td>\n",
       "      <td>66.737999</td>\n",
       "      <td>35733000</td>\n",
       "      <td>0.356003</td>\n",
       "      <td>1</td>\n",
       "      <td>2998</td>\n",
       "      <td>Replying to \\n@PPathole\\n @Tesla\\n and 2 other...</td>\n",
       "      <td>https://twitter.com/elonmusk/status/9506003636...</td>\n",
       "    </tr>\n",
       "    <tr>\n",
       "      <th>4</th>\n",
       "      <td>2018-01-12</td>\n",
       "      <td>67.725998</td>\n",
       "      <td>68.082001</td>\n",
       "      <td>66.734001</td>\n",
       "      <td>67.244003</td>\n",
       "      <td>67.244003</td>\n",
       "      <td>24125500</td>\n",
       "      <td>-0.879997</td>\n",
       "      <td>-1</td>\n",
       "      <td>3006</td>\n",
       "      <td>Replying to \\n@ID_AA_Carmack\\n and \\n@Danielle...</td>\n",
       "      <td>https://twitter.com/elonmusk/status/9518938946...</td>\n",
       "    </tr>\n",
       "  </tbody>\n",
       "</table>\n",
       "</div>"
      ],
      "text/plain": [
       "        Date       Open       High        Low      Close  Adj Close    Volume  \\\n",
       "0 2018-01-03  64.199997  65.050003  63.110001  63.450001  63.450001  22607500   \n",
       "1 2018-01-05  63.324001  63.448002  62.400002  63.316002  63.316002  22956000   \n",
       "2 2018-01-08  63.200001  67.403999  63.099998  67.281998  67.281998  49297000   \n",
       "3 2018-01-09  67.031998  67.760002  65.480003  66.737999  66.737999  35733000   \n",
       "4 2018-01-12  67.725998  68.082001  66.734001  67.244003  67.244003  24125500   \n",
       "\n",
       "   Price Change Percent Change  Tweet  \\\n",
       "0      0.628006              1   2992   \n",
       "1     -0.261997              0   2994   \n",
       "2      3.955997              6   2996   \n",
       "3      0.356003              1   2998   \n",
       "4     -0.879997             -1   3006   \n",
       "\n",
       "                                                text  \\\n",
       "0  Come work at the biggest & most advanced facto...   \n",
       "1  Falcon Heavy goes vertical\\n0:19\\n2M views\\n2,...   \n",
       "2  Long exposure of rocket ascent, reentry from s...   \n",
       "3  Replying to \\n@PPathole\\n @Tesla\\n and 2 other...   \n",
       "4  Replying to \\n@ID_AA_Carmack\\n and \\n@Danielle...   \n",
       "\n",
       "                                           Tweet URL  \n",
       "0  https://twitter.com/elonmusk/status/9484282744...  \n",
       "1  https://twitter.com/elonmusk/status/9490754750...  \n",
       "2  https://twitter.com/elonmusk/status/9504162449...  \n",
       "3  https://twitter.com/elonmusk/status/9506003636...  \n",
       "4  https://twitter.com/elonmusk/status/9518938946...  "
      ]
     },
     "execution_count": 66,
     "metadata": {},
     "output_type": "execute_result"
    }
   ],
   "source": [
    "df.head()"
   ]
  },
  {
   "cell_type": "code",
   "execution_count": 78,
   "id": "cd695e86-f307-4298-b8c1-2978f2aa30d8",
   "metadata": {},
   "outputs": [],
   "source": [
    "df[\"Percent Change\"] = [float(i) for i in df[\"Percent Change\"]]"
   ]
  },
  {
   "cell_type": "code",
   "execution_count": 76,
   "id": "11b3b882-e244-43d6-80da-65d98974c7bb",
   "metadata": {},
   "outputs": [
    {
     "name": "stderr",
     "output_type": "stream",
     "text": [
      "<>:1: SyntaxWarning: invalid escape sequence '\\s'\n",
      "<>:1: SyntaxWarning: invalid escape sequence '\\s'\n",
      "/var/folders/ff/g92mc5sn1qj8knmdc1kc6x2r0000gn/T/ipykernel_2466/221476712.py:1: SyntaxWarning: invalid escape sequence '\\s'\n",
      "  \"\"\"\n"
     ]
    },
    {
     "data": {
      "text/plain": [
       "'\\ndef cleanTxt(text):\\n    text = re.sub(\\'@[A-Za-z0–9]+\\', \\'\\', text) #Removing @mentions\\n    text = re.sub(\\'#\\', \\'\\', text) # Removing \\'#\\' hash tag\\n    text = re.sub(r\\'RT[\\\\s]+\\', \\'\\', text)  # Removing RT\\n    text = re.sub(r\\'https?:\\\\/\\\\/\\\\S+\\', \\'\\', text)  # Removing hyperlink\\ndf[\"text\"] = df[\"text\"].apply(cleanTxt)\\n'"
      ]
     },
     "execution_count": 76,
     "metadata": {},
     "output_type": "execute_result"
    }
   ],
   "source": [
    "\"\"\"\n",
    "def cleanTxt(text):\n",
    "    text = re.sub('@[A-Za-z0–9]+', '', text) #Removing @mentions\n",
    "    text = re.sub('#', '', text) # Removing '#' hash tag\n",
    "    text = re.sub(r'RT[\\s]+', '', text)  # Removing RT\n",
    "    text = re.sub(r'https?:\\/\\/\\S+', '', text)  # Removing hyperlink\n",
    "df[\"text\"] = df[\"text\"].apply(cleanTxt)\n",
    "\"\"\""
   ]
  },
  {
   "cell_type": "code",
   "execution_count": 67,
   "id": "7304e107-e3fa-45c7-84df-368194ddb5fd",
   "metadata": {},
   "outputs": [
    {
     "data": {
      "text/html": [
       "<div>\n",
       "<style scoped>\n",
       "    .dataframe tbody tr th:only-of-type {\n",
       "        vertical-align: middle;\n",
       "    }\n",
       "\n",
       "    .dataframe tbody tr th {\n",
       "        vertical-align: top;\n",
       "    }\n",
       "\n",
       "    .dataframe thead th {\n",
       "        text-align: right;\n",
       "    }\n",
       "</style>\n",
       "<table border=\"1\" class=\"dataframe\">\n",
       "  <thead>\n",
       "    <tr style=\"text-align: right;\">\n",
       "      <th></th>\n",
       "      <th>Date</th>\n",
       "      <th>Open</th>\n",
       "      <th>High</th>\n",
       "      <th>Low</th>\n",
       "      <th>Close</th>\n",
       "      <th>Adj Close</th>\n",
       "      <th>Volume</th>\n",
       "      <th>Price Change</th>\n",
       "      <th>Percent Change</th>\n",
       "      <th>Tweet</th>\n",
       "      <th>text</th>\n",
       "      <th>Tweet URL</th>\n",
       "    </tr>\n",
       "  </thead>\n",
       "  <tbody>\n",
       "    <tr>\n",
       "      <th>0</th>\n",
       "      <td>2018-01-03</td>\n",
       "      <td>64.199997</td>\n",
       "      <td>65.050003</td>\n",
       "      <td>63.110001</td>\n",
       "      <td>63.450001</td>\n",
       "      <td>63.450001</td>\n",
       "      <td>22607500</td>\n",
       "      <td>0.628006</td>\n",
       "      <td>1</td>\n",
       "      <td>2992</td>\n",
       "      <td>Come work at the biggest &amp; most advanced facto...</td>\n",
       "      <td>https://twitter.com/elonmusk/status/9484282744...</td>\n",
       "    </tr>\n",
       "    <tr>\n",
       "      <th>1</th>\n",
       "      <td>2018-01-05</td>\n",
       "      <td>63.324001</td>\n",
       "      <td>63.448002</td>\n",
       "      <td>62.400002</td>\n",
       "      <td>63.316002</td>\n",
       "      <td>63.316002</td>\n",
       "      <td>22956000</td>\n",
       "      <td>-0.261997</td>\n",
       "      <td>0</td>\n",
       "      <td>2994</td>\n",
       "      <td>Falcon Heavy goes vertical\\n0:19\\n2M views\\n2,...</td>\n",
       "      <td>https://twitter.com/elonmusk/status/9490754750...</td>\n",
       "    </tr>\n",
       "    <tr>\n",
       "      <th>2</th>\n",
       "      <td>2018-01-08</td>\n",
       "      <td>63.200001</td>\n",
       "      <td>67.403999</td>\n",
       "      <td>63.099998</td>\n",
       "      <td>67.281998</td>\n",
       "      <td>67.281998</td>\n",
       "      <td>49297000</td>\n",
       "      <td>3.955997</td>\n",
       "      <td>6</td>\n",
       "      <td>2996</td>\n",
       "      <td>Long exposure of rocket ascent, reentry from s...</td>\n",
       "      <td>https://twitter.com/elonmusk/status/9504162449...</td>\n",
       "    </tr>\n",
       "    <tr>\n",
       "      <th>3</th>\n",
       "      <td>2018-01-09</td>\n",
       "      <td>67.031998</td>\n",
       "      <td>67.760002</td>\n",
       "      <td>65.480003</td>\n",
       "      <td>66.737999</td>\n",
       "      <td>66.737999</td>\n",
       "      <td>35733000</td>\n",
       "      <td>0.356003</td>\n",
       "      <td>1</td>\n",
       "      <td>2998</td>\n",
       "      <td>Replying to \\n@PPathole\\n @Tesla\\n and 2 other...</td>\n",
       "      <td>https://twitter.com/elonmusk/status/9506003636...</td>\n",
       "    </tr>\n",
       "    <tr>\n",
       "      <th>4</th>\n",
       "      <td>2018-01-12</td>\n",
       "      <td>67.725998</td>\n",
       "      <td>68.082001</td>\n",
       "      <td>66.734001</td>\n",
       "      <td>67.244003</td>\n",
       "      <td>67.244003</td>\n",
       "      <td>24125500</td>\n",
       "      <td>-0.879997</td>\n",
       "      <td>-1</td>\n",
       "      <td>3006</td>\n",
       "      <td>Replying to \\n@ID_AA_Carmack\\n and \\n@Danielle...</td>\n",
       "      <td>https://twitter.com/elonmusk/status/9518938946...</td>\n",
       "    </tr>\n",
       "    <tr>\n",
       "      <th>...</th>\n",
       "      <td>...</td>\n",
       "      <td>...</td>\n",
       "      <td>...</td>\n",
       "      <td>...</td>\n",
       "      <td>...</td>\n",
       "      <td>...</td>\n",
       "      <td>...</td>\n",
       "      <td>...</td>\n",
       "      <td>...</td>\n",
       "      <td>...</td>\n",
       "      <td>...</td>\n",
       "      <td>...</td>\n",
       "    </tr>\n",
       "    <tr>\n",
       "      <th>894</th>\n",
       "      <td>2022-02-25</td>\n",
       "      <td>809.229980</td>\n",
       "      <td>819.500000</td>\n",
       "      <td>782.400024</td>\n",
       "      <td>809.869995</td>\n",
       "      <td>809.869995</td>\n",
       "      <td>25355900</td>\n",
       "      <td>17.020020</td>\n",
       "      <td>2</td>\n",
       "      <td>12150</td>\n",
       "      <td>Replying to \\n@Gfilche\\nHollywood refuses to w...</td>\n",
       "      <td>https://twitter.com/elonmusk/status/1497102152...</td>\n",
       "    </tr>\n",
       "    <tr>\n",
       "      <th>895</th>\n",
       "      <td>2022-03-01</td>\n",
       "      <td>869.679993</td>\n",
       "      <td>889.880005</td>\n",
       "      <td>853.780029</td>\n",
       "      <td>864.369995</td>\n",
       "      <td>864.369995</td>\n",
       "      <td>24922300</td>\n",
       "      <td>13.020020</td>\n",
       "      <td>1</td>\n",
       "      <td>12194</td>\n",
       "      <td>Replying to \\n@DriveTeslaca\\nDepends on what i...</td>\n",
       "      <td>https://twitter.com/elonmusk/status/1498495077...</td>\n",
       "    </tr>\n",
       "    <tr>\n",
       "      <th>896</th>\n",
       "      <td>2022-03-02</td>\n",
       "      <td>872.130005</td>\n",
       "      <td>886.479980</td>\n",
       "      <td>844.270020</td>\n",
       "      <td>879.890015</td>\n",
       "      <td>879.890015</td>\n",
       "      <td>24881100</td>\n",
       "      <td>-3.400025</td>\n",
       "      <td>0</td>\n",
       "      <td>12172</td>\n",
       "      <td>Replying to \\n@JoeBiden\\nTesla has created ove...</td>\n",
       "      <td>https://twitter.com/elonmusk/status/1498858611...</td>\n",
       "    </tr>\n",
       "    <tr>\n",
       "      <th>897</th>\n",
       "      <td>2022-03-03</td>\n",
       "      <td>878.770020</td>\n",
       "      <td>886.440002</td>\n",
       "      <td>832.599976</td>\n",
       "      <td>839.289978</td>\n",
       "      <td>839.289978</td>\n",
       "      <td>20541200</td>\n",
       "      <td>-0.039978</td>\n",
       "      <td>0</td>\n",
       "      <td>12170</td>\n",
       "      <td>Important warning: Starlink is the only non-Ru...</td>\n",
       "      <td>https://twitter.com/elonmusk/status/1499472139...</td>\n",
       "    </tr>\n",
       "    <tr>\n",
       "      <th>898</th>\n",
       "      <td>2022-03-04</td>\n",
       "      <td>849.099976</td>\n",
       "      <td>855.650024</td>\n",
       "      <td>825.159973</td>\n",
       "      <td>838.289978</td>\n",
       "      <td>838.289978</td>\n",
       "      <td>22333200</td>\n",
       "      <td>-30.789978</td>\n",
       "      <td>-3</td>\n",
       "      <td>12173</td>\n",
       "      <td>Replying to \\n@waitbutwhy\\nYou will be in the ...</td>\n",
       "      <td>https://twitter.com/elonmusk/status/1499807705...</td>\n",
       "    </tr>\n",
       "  </tbody>\n",
       "</table>\n",
       "<p>899 rows × 12 columns</p>\n",
       "</div>"
      ],
      "text/plain": [
       "          Date        Open        High         Low       Close   Adj Close  \\\n",
       "0   2018-01-03   64.199997   65.050003   63.110001   63.450001   63.450001   \n",
       "1   2018-01-05   63.324001   63.448002   62.400002   63.316002   63.316002   \n",
       "2   2018-01-08   63.200001   67.403999   63.099998   67.281998   67.281998   \n",
       "3   2018-01-09   67.031998   67.760002   65.480003   66.737999   66.737999   \n",
       "4   2018-01-12   67.725998   68.082001   66.734001   67.244003   67.244003   \n",
       "..         ...         ...         ...         ...         ...         ...   \n",
       "894 2022-02-25  809.229980  819.500000  782.400024  809.869995  809.869995   \n",
       "895 2022-03-01  869.679993  889.880005  853.780029  864.369995  864.369995   \n",
       "896 2022-03-02  872.130005  886.479980  844.270020  879.890015  879.890015   \n",
       "897 2022-03-03  878.770020  886.440002  832.599976  839.289978  839.289978   \n",
       "898 2022-03-04  849.099976  855.650024  825.159973  838.289978  838.289978   \n",
       "\n",
       "       Volume  Price Change Percent Change  Tweet  \\\n",
       "0    22607500      0.628006              1   2992   \n",
       "1    22956000     -0.261997              0   2994   \n",
       "2    49297000      3.955997              6   2996   \n",
       "3    35733000      0.356003              1   2998   \n",
       "4    24125500     -0.879997             -1   3006   \n",
       "..        ...           ...            ...    ...   \n",
       "894  25355900     17.020020              2  12150   \n",
       "895  24922300     13.020020              1  12194   \n",
       "896  24881100     -3.400025              0  12172   \n",
       "897  20541200     -0.039978              0  12170   \n",
       "898  22333200    -30.789978             -3  12173   \n",
       "\n",
       "                                                  text  \\\n",
       "0    Come work at the biggest & most advanced facto...   \n",
       "1    Falcon Heavy goes vertical\\n0:19\\n2M views\\n2,...   \n",
       "2    Long exposure of rocket ascent, reentry from s...   \n",
       "3    Replying to \\n@PPathole\\n @Tesla\\n and 2 other...   \n",
       "4    Replying to \\n@ID_AA_Carmack\\n and \\n@Danielle...   \n",
       "..                                                 ...   \n",
       "894  Replying to \\n@Gfilche\\nHollywood refuses to w...   \n",
       "895  Replying to \\n@DriveTeslaca\\nDepends on what i...   \n",
       "896  Replying to \\n@JoeBiden\\nTesla has created ove...   \n",
       "897  Important warning: Starlink is the only non-Ru...   \n",
       "898  Replying to \\n@waitbutwhy\\nYou will be in the ...   \n",
       "\n",
       "                                             Tweet URL  \n",
       "0    https://twitter.com/elonmusk/status/9484282744...  \n",
       "1    https://twitter.com/elonmusk/status/9490754750...  \n",
       "2    https://twitter.com/elonmusk/status/9504162449...  \n",
       "3    https://twitter.com/elonmusk/status/9506003636...  \n",
       "4    https://twitter.com/elonmusk/status/9518938946...  \n",
       "..                                                 ...  \n",
       "894  https://twitter.com/elonmusk/status/1497102152...  \n",
       "895  https://twitter.com/elonmusk/status/1498495077...  \n",
       "896  https://twitter.com/elonmusk/status/1498858611...  \n",
       "897  https://twitter.com/elonmusk/status/1499472139...  \n",
       "898  https://twitter.com/elonmusk/status/1499807705...  \n",
       "\n",
       "[899 rows x 12 columns]"
      ]
     },
     "execution_count": 67,
     "metadata": {},
     "output_type": "execute_result"
    }
   ],
   "source": [
    "df"
   ]
  },
  {
   "cell_type": "code",
   "execution_count": 68,
   "id": "93788d22-f44f-4008-86bb-19722306fdac",
   "metadata": {},
   "outputs": [],
   "source": [
    "sentiment = SentimentIntensityAnalyzer()"
   ]
  },
  {
   "cell_type": "code",
   "execution_count": 69,
   "id": "7075dfd7-358a-4d9a-8107-1ec0a0a37e0c",
   "metadata": {},
   "outputs": [],
   "source": [
    "positive = [sentiment.polarity_scores(i)[\"pos\"] for i in df[\"text\"]]\n",
    "neutral = [sentiment.polarity_scores(i)[\"neu\"] for i in df[\"text\"]]\n",
    "negative = [sentiment.polarity_scores(i)[\"neg\"] for i in df[\"text\"]]\n",
    "compound = [sentiment.polarity_scores(i)[\"compound\"] for i in df[\"text\"]]"
   ]
  },
  {
   "cell_type": "code",
   "execution_count": 70,
   "id": "5016376c-9710-4c59-a058-064e7a159d5c",
   "metadata": {},
   "outputs": [],
   "source": [
    "df[\"Positive\"] = positive\n",
    "df[\"Neutral\"] = neutral\n",
    "df[\"Negative\"] = negative\n",
    "df[\"Compound\"] = compound"
   ]
  },
  {
   "cell_type": "code",
   "execution_count": 71,
   "id": "0e0b78b7-4ce6-4981-8f25-18b0241ddad5",
   "metadata": {},
   "outputs": [],
   "source": [
    "inTesla = []\n",
    "for i in df[\"text\"]:\n",
    "    if \"TESLA\" in i.upper():\n",
    "        inTesla.append(1)\n",
    "    else:\n",
    "        inTesla.append(0)\n",
    "df[\"TESLA\"] = inTesla"
   ]
  },
  {
   "cell_type": "code",
   "execution_count": 72,
   "id": "7e2d6c04-8c5e-4767-a80e-2051535b5a2d",
   "metadata": {},
   "outputs": [
    {
     "data": {
      "text/html": [
       "<div>\n",
       "<style scoped>\n",
       "    .dataframe tbody tr th:only-of-type {\n",
       "        vertical-align: middle;\n",
       "    }\n",
       "\n",
       "    .dataframe tbody tr th {\n",
       "        vertical-align: top;\n",
       "    }\n",
       "\n",
       "    .dataframe thead th {\n",
       "        text-align: right;\n",
       "    }\n",
       "</style>\n",
       "<table border=\"1\" class=\"dataframe\">\n",
       "  <thead>\n",
       "    <tr style=\"text-align: right;\">\n",
       "      <th></th>\n",
       "      <th>Date</th>\n",
       "      <th>Open</th>\n",
       "      <th>High</th>\n",
       "      <th>Low</th>\n",
       "      <th>Close</th>\n",
       "      <th>Adj Close</th>\n",
       "      <th>Volume</th>\n",
       "      <th>Price Change</th>\n",
       "      <th>Percent Change</th>\n",
       "      <th>Tweet</th>\n",
       "      <th>text</th>\n",
       "      <th>Tweet URL</th>\n",
       "      <th>Positive</th>\n",
       "      <th>Neutral</th>\n",
       "      <th>Negative</th>\n",
       "      <th>Compound</th>\n",
       "      <th>TESLA</th>\n",
       "    </tr>\n",
       "  </thead>\n",
       "  <tbody>\n",
       "    <tr>\n",
       "      <th>0</th>\n",
       "      <td>2018-01-03</td>\n",
       "      <td>64.199997</td>\n",
       "      <td>65.050003</td>\n",
       "      <td>63.110001</td>\n",
       "      <td>63.450001</td>\n",
       "      <td>63.450001</td>\n",
       "      <td>22607500</td>\n",
       "      <td>0.628006</td>\n",
       "      <td>1</td>\n",
       "      <td>2992</td>\n",
       "      <td>Come work at the biggest &amp; most advanced facto...</td>\n",
       "      <td>https://twitter.com/elonmusk/status/9484282744...</td>\n",
       "      <td>0.250</td>\n",
       "      <td>0.750</td>\n",
       "      <td>0.0</td>\n",
       "      <td>0.8997</td>\n",
       "      <td>1</td>\n",
       "    </tr>\n",
       "    <tr>\n",
       "      <th>1</th>\n",
       "      <td>2018-01-05</td>\n",
       "      <td>63.324001</td>\n",
       "      <td>63.448002</td>\n",
       "      <td>62.400002</td>\n",
       "      <td>63.316002</td>\n",
       "      <td>63.316002</td>\n",
       "      <td>22956000</td>\n",
       "      <td>-0.261997</td>\n",
       "      <td>0</td>\n",
       "      <td>2994</td>\n",
       "      <td>Falcon Heavy goes vertical\\n0:19\\n2M views\\n2,...</td>\n",
       "      <td>https://twitter.com/elonmusk/status/9490754750...</td>\n",
       "      <td>0.000</td>\n",
       "      <td>1.000</td>\n",
       "      <td>0.0</td>\n",
       "      <td>0.0000</td>\n",
       "      <td>0</td>\n",
       "    </tr>\n",
       "    <tr>\n",
       "      <th>2</th>\n",
       "      <td>2018-01-08</td>\n",
       "      <td>63.200001</td>\n",
       "      <td>67.403999</td>\n",
       "      <td>63.099998</td>\n",
       "      <td>67.281998</td>\n",
       "      <td>67.281998</td>\n",
       "      <td>49297000</td>\n",
       "      <td>3.955997</td>\n",
       "      <td>6</td>\n",
       "      <td>2996</td>\n",
       "      <td>Long exposure of rocket ascent, reentry from s...</td>\n",
       "      <td>https://twitter.com/elonmusk/status/9504162449...</td>\n",
       "      <td>0.133</td>\n",
       "      <td>0.867</td>\n",
       "      <td>0.0</td>\n",
       "      <td>0.3818</td>\n",
       "      <td>0</td>\n",
       "    </tr>\n",
       "    <tr>\n",
       "      <th>3</th>\n",
       "      <td>2018-01-09</td>\n",
       "      <td>67.031998</td>\n",
       "      <td>67.760002</td>\n",
       "      <td>65.480003</td>\n",
       "      <td>66.737999</td>\n",
       "      <td>66.737999</td>\n",
       "      <td>35733000</td>\n",
       "      <td>0.356003</td>\n",
       "      <td>1</td>\n",
       "      <td>2998</td>\n",
       "      <td>Replying to \\n@PPathole\\n @Tesla\\n and 2 other...</td>\n",
       "      <td>https://twitter.com/elonmusk/status/9506003636...</td>\n",
       "      <td>0.000</td>\n",
       "      <td>1.000</td>\n",
       "      <td>0.0</td>\n",
       "      <td>0.0000</td>\n",
       "      <td>1</td>\n",
       "    </tr>\n",
       "    <tr>\n",
       "      <th>4</th>\n",
       "      <td>2018-01-12</td>\n",
       "      <td>67.725998</td>\n",
       "      <td>68.082001</td>\n",
       "      <td>66.734001</td>\n",
       "      <td>67.244003</td>\n",
       "      <td>67.244003</td>\n",
       "      <td>24125500</td>\n",
       "      <td>-0.879997</td>\n",
       "      <td>-1</td>\n",
       "      <td>3006</td>\n",
       "      <td>Replying to \\n@ID_AA_Carmack\\n and \\n@Danielle...</td>\n",
       "      <td>https://twitter.com/elonmusk/status/9518938946...</td>\n",
       "      <td>0.233</td>\n",
       "      <td>0.767</td>\n",
       "      <td>0.0</td>\n",
       "      <td>0.8705</td>\n",
       "      <td>0</td>\n",
       "    </tr>\n",
       "  </tbody>\n",
       "</table>\n",
       "</div>"
      ],
      "text/plain": [
       "        Date       Open       High        Low      Close  Adj Close    Volume  \\\n",
       "0 2018-01-03  64.199997  65.050003  63.110001  63.450001  63.450001  22607500   \n",
       "1 2018-01-05  63.324001  63.448002  62.400002  63.316002  63.316002  22956000   \n",
       "2 2018-01-08  63.200001  67.403999  63.099998  67.281998  67.281998  49297000   \n",
       "3 2018-01-09  67.031998  67.760002  65.480003  66.737999  66.737999  35733000   \n",
       "4 2018-01-12  67.725998  68.082001  66.734001  67.244003  67.244003  24125500   \n",
       "\n",
       "   Price Change Percent Change  Tweet  \\\n",
       "0      0.628006              1   2992   \n",
       "1     -0.261997              0   2994   \n",
       "2      3.955997              6   2996   \n",
       "3      0.356003              1   2998   \n",
       "4     -0.879997             -1   3006   \n",
       "\n",
       "                                                text  \\\n",
       "0  Come work at the biggest & most advanced facto...   \n",
       "1  Falcon Heavy goes vertical\\n0:19\\n2M views\\n2,...   \n",
       "2  Long exposure of rocket ascent, reentry from s...   \n",
       "3  Replying to \\n@PPathole\\n @Tesla\\n and 2 other...   \n",
       "4  Replying to \\n@ID_AA_Carmack\\n and \\n@Danielle...   \n",
       "\n",
       "                                           Tweet URL  Positive  Neutral  \\\n",
       "0  https://twitter.com/elonmusk/status/9484282744...     0.250    0.750   \n",
       "1  https://twitter.com/elonmusk/status/9490754750...     0.000    1.000   \n",
       "2  https://twitter.com/elonmusk/status/9504162449...     0.133    0.867   \n",
       "3  https://twitter.com/elonmusk/status/9506003636...     0.000    1.000   \n",
       "4  https://twitter.com/elonmusk/status/9518938946...     0.233    0.767   \n",
       "\n",
       "   Negative  Compound  TESLA  \n",
       "0       0.0    0.8997      1  \n",
       "1       0.0    0.0000      0  \n",
       "2       0.0    0.3818      0  \n",
       "3       0.0    0.0000      1  \n",
       "4       0.0    0.8705      0  "
      ]
     },
     "execution_count": 72,
     "metadata": {},
     "output_type": "execute_result"
    }
   ],
   "source": [
    "df.head()"
   ]
  },
  {
   "cell_type": "code",
   "execution_count": 91,
   "id": "ea4fa281-eb5b-4c6b-bfa2-ed198e710acb",
   "metadata": {},
   "outputs": [],
   "source": [
    "df.to_csv(\"Final Data.csv\")"
   ]
  },
  {
   "cell_type": "code",
   "execution_count": 90,
   "id": "db8851ad-9911-4c36-99b5-06e06e1f26fb",
   "metadata": {},
   "outputs": [
    {
     "data": {
      "text/plain": [
       "<matplotlib.collections.PathCollection at 0x12e2d3620>"
      ]
     },
     "execution_count": 90,
     "metadata": {},
     "output_type": "execute_result"
    },
    {
     "data": {
      "image/png": "[encoded data removed]",
      "text/plain": [
       "<Figure size 640x480 with 1 Axes>"
      ]
     },
     "metadata": {},
     "output_type": "display_data"
    }
   ],
   "source": [
    "plt.scatter(x=df[\"Positive\"], y=df[\"Percent Change\"], color = \"green\")"
   ]
  },
  {
   "cell_type": "code",
   "execution_count": 87,
   "id": "2a80d919-52e4-47be-9397-c1bf65727491",
   "metadata": {},
   "outputs": [
    {
     "data": {
      "text/plain": [
       "<matplotlib.collections.PathCollection at 0x12e6a2cf0>"
      ]
     },
     "execution_count": 87,
     "metadata": {},
     "output_type": "execute_result"
    },
    {
     "data": {
      "image/png": "[encoded data removed]",
      "text/plain": [
       "<Figure size 640x480 with 1 Axes>"
      ]
     },
     "metadata": {},
     "output_type": "display_data"
    }
   ],
   "source": [
    "plt.scatter(x=df[\"Neutral\"], y=df[\"Percent Change\"], color=\"gold\")"
   ]
  },
  {
   "cell_type": "code",
   "execution_count": 88,
   "id": "e86d7a1a-8be0-4bcd-9639-2adba9347a92",
   "metadata": {},
   "outputs": [
    {
     "data": {
      "text/plain": [
       "<matplotlib.collections.PathCollection at 0x12e6a6690>"
      ]
     },
     "execution_count": 88,
     "metadata": {},
     "output_type": "execute_result"
    },
    {
     "data": {
      "image/png": "[encoded data removed]",
      "text/plain": [
       "<Figure size 640x480 with 1 Axes>"
      ]
     },
     "metadata": {},
     "output_type": "display_data"
    }
   ],
   "source": [
    "plt.scatter(x=df[\"Negative\"], y=df[\"Percent Change\"], color=\"red\")"
   ]
  },
  {
   "cell_type": "code",
   "execution_count": 89,
   "id": "7ac448bf-4264-4f25-a21a-0acf2bfcf98e",
   "metadata": {},
   "outputs": [
    {
     "data": {
      "text/plain": [
       "<matplotlib.collections.PathCollection at 0x12e6bdac0>"
      ]
     },
     "execution_count": 89,
     "metadata": {},
     "output_type": "execute_result"
    },
    {
     "data": {
      "image/png": "[encoded data removed]",
      "text/plain": [
       "<Figure size 640x480 with 1 Axes>"
      ]
     },
     "metadata": {},
     "output_type": "display_data"
    }
   ],
   "source": [
    "plt.scatter(x=df[\"Compound\"], y=df[\"Percent Change\"], color=\"orange\")"
   ]
  },
  {
   "cell_type": "code",
   "execution_count": 79,
   "id": "219cf33d-16ae-4131-a7b8-8e9cde2a8d68",
   "metadata": {},
   "outputs": [
    {
     "data": {
      "text/plain": [
       "numpy.float64"
      ]
     },
     "execution_count": 79,
     "metadata": {},
     "output_type": "execute_result"
    }
   ],
   "source": [
    "type(df[\"Percent Change\"][0])"
   ]
  },
  {
   "cell_type": "code",
   "execution_count": null,
   "id": "5bc35021-4b62-4163-b46c-1150df92cf94",
   "metadata": {},
   "outputs": [],
   "source": []
  }
 ],
 "metadata": {
  "kernelspec": {
   "display_name": "Python 3 (ipykernel)",
   "language": "python",
   "name": "python3"
  },
  "language_info": {
   "codemirror_mode": {
    "name": "ipython",
    "version": 3
   },
   "file_extension": ".py",
   "mimetype": "text/x-python",
   "name": "python",
   "nbconvert_exporter": "python",
   "pygments_lexer": "ipython3",
   "version": "3.12.5"
  }
 },
 "nbformat": 4,
 "nbformat_minor": 5
}
